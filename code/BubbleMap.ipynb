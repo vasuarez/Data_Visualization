{
 "cells": [
  {
   "attachments": {},
   "cell_type": "markdown",
   "metadata": {},
   "source": [
    "# Bubble Map\n",
    "This bubble map shows which countries have the largest illiterate youth population. The Plotly version of the map is interactive and you can hover over the bubbles to see the country’s name and illiteracy rate."
   ]
  },
  {
   "cell_type": "markdown",
   "metadata": {},
   "source": [
    "### SetUp"
   ]
  },
  {
   "cell_type": "code",
   "execution_count": 1,
   "metadata": {},
   "outputs": [],
   "source": [
    "import pandas as pd\n",
    "import plotly.plotly as py\n",
    "import plotly.graph_objs as go\n",
    "import plotly\n",
    "import geopy.geocoders as geocoders"
   ]
  },
  {
   "cell_type": "code",
   "execution_count": 2,
   "metadata": {},
   "outputs": [],
   "source": [
    "geolocator = geocoders.Nominatim(user_agent=\"my_app\")\n",
    "\n",
    "# helper functions\n",
    "def assign_continent(country_code):\n",
    "    \"\"\"given a 3 letter country code,\n",
    "    return the continent the country belongs to\"\"\"\n",
    "    try:\n",
    "        row = country_to_continent[country_to_continent.Three_Letter_Country_Code == country_code]\n",
    "        continent = row.Continent_Name.values[0]\n",
    "        return continent\n",
    "    except:\n",
    "        return None\n",
    "    \n",
    "def get_lat_lon(c):\n",
    "    try:\n",
    "        location = geolocator.geocode(c)\n",
    "        return (location.latitude, location.longitude)\n",
    "    except:\n",
    "        print(c)\n",
    "        return None, None"
   ]
  },
  {
   "cell_type": "markdown",
   "metadata": {},
   "source": [
    "### Pre-Processing\n",
    "1. Filter Columns\n",
    "2. Rename Columns\n",
    "3. Assign each continennt to each country\n",
    "4. Filter out the non-country level rows"
   ]
  },
  {
   "cell_type": "code",
   "execution_count": 3,
   "metadata": {},
   "outputs": [],
   "source": [
    "# read in data\n",
    "country_to_continent = pd.read_csv('../data/country_continent.csv')\n",
    "literacy_rate = pd.read_csv('../data/youth_literacy_rate.csv')\n",
    "\n",
    "\n",
    "# 1. filter columns\n",
    "literacy_rate = literacy_rate[['Indicator', 'LOCATION', 'Country', 'Time', 'Value']]\n",
    "\n",
    "# 2. rename column\n",
    "literacy_rate = literacy_rate.replace('Youth literacy rate, population 15-24 years, female (%)', \n",
    "                           'Girls')\n",
    "literacy_rate = literacy_rate.replace('Youth literacy rate, population 15-24 years, male (%)', \n",
    "                           'Boys')\n",
    "\n",
    "# 3. Assign each country their continent\n",
    "literacy_rate['Continent'] = literacy_rate.LOCATION.apply(lambda x: assign_continent(x))\n",
    "\n",
    "# 4. keep only country level rows\n",
    "countries = country_to_continent.Three_Letter_Country_Code.unique()\n",
    "literacy_rate_by_country = literacy_rate[literacy_rate.LOCATION.isin(countries)]"
   ]
  },
  {
   "cell_type": "markdown",
   "metadata": {},
   "source": [
    "### Calculations"
   ]
  },
  {
   "cell_type": "code",
   "execution_count": 4,
   "metadata": {},
   "outputs": [
    {
     "data": {
      "text/html": [
       "<div>\n",
       "<style scoped>\n",
       "    .dataframe tbody tr th:only-of-type {\n",
       "        vertical-align: middle;\n",
       "    }\n",
       "\n",
       "    .dataframe tbody tr th {\n",
       "        vertical-align: top;\n",
       "    }\n",
       "\n",
       "    .dataframe thead th {\n",
       "        text-align: right;\n",
       "    }\n",
       "</style>\n",
       "<table border=\"1\" class=\"dataframe\">\n",
       "  <thead>\n",
       "    <tr style=\"text-align: right;\">\n",
       "      <th></th>\n",
       "      <th></th>\n",
       "      <th></th>\n",
       "      <th>Time</th>\n",
       "      <th>Value</th>\n",
       "    </tr>\n",
       "    <tr>\n",
       "      <th>Country</th>\n",
       "      <th>LOCATION</th>\n",
       "      <th>Continent</th>\n",
       "      <th></th>\n",
       "      <th></th>\n",
       "    </tr>\n",
       "  </thead>\n",
       "  <tbody>\n",
       "    <tr>\n",
       "      <th>Angola</th>\n",
       "      <th>AGO</th>\n",
       "      <th>Africa</th>\n",
       "      <td>2014.0</td>\n",
       "      <td>77.723755</td>\n",
       "    </tr>\n",
       "    <tr>\n",
       "      <th>Argentina</th>\n",
       "      <th>ARG</th>\n",
       "      <th>South America</th>\n",
       "      <td>2015.0</td>\n",
       "      <td>99.456430</td>\n",
       "    </tr>\n",
       "    <tr>\n",
       "      <th>Azerbaijan</th>\n",
       "      <th>AZE</th>\n",
       "      <th>Europe</th>\n",
       "      <td>2015.0</td>\n",
       "      <td>99.945877</td>\n",
       "    </tr>\n",
       "    <tr>\n",
       "      <th>Bahrain</th>\n",
       "      <th>BHR</th>\n",
       "      <th>Asia</th>\n",
       "      <td>2016.0</td>\n",
       "      <td>94.235375</td>\n",
       "    </tr>\n",
       "    <tr>\n",
       "      <th>Bangladesh</th>\n",
       "      <th>BGD</th>\n",
       "      <th>Asia</th>\n",
       "      <td>2015.5</td>\n",
       "      <td>89.649010</td>\n",
       "    </tr>\n",
       "  </tbody>\n",
       "</table>\n",
       "</div>"
      ],
      "text/plain": [
       "                                     Time      Value\n",
       "Country    LOCATION Continent                       \n",
       "Angola     AGO      Africa         2014.0  77.723755\n",
       "Argentina  ARG      South America  2015.0  99.456430\n",
       "Azerbaijan AZE      Europe         2015.0  99.945877\n",
       "Bahrain    BHR      Asia           2016.0  94.235375\n",
       "Bangladesh BGD      Asia           2015.5  89.649010"
      ]
     },
     "execution_count": 4,
     "metadata": {},
     "output_type": "execute_result"
    }
   ],
   "source": [
    "# average illiteracy rate\n",
    "literacy_rate_by_country = literacy_rate_by_country.groupby(['Country', 'LOCATION', 'Continent']).mean()\n",
    "\n",
    "literacy_rate_by_country.head()"
   ]
  },
  {
   "cell_type": "markdown",
   "metadata": {},
   "source": [
    "### Plot"
   ]
  },
  {
   "cell_type": "code",
   "execution_count": 5,
   "metadata": {},
   "outputs": [],
   "source": [
    "# color pallet\n",
    "color = {'Asia':'#e41a1c', 'North America':'#377eb8',\n",
    "        'Europe':'#FF69B4', 'South America':'#984ea3',\n",
    "        'Africa':'#ff7f00', 'Oceania':'#4daf4a'}"
   ]
  },
  {
   "cell_type": "code",
   "execution_count": 7,
   "metadata": {},
   "outputs": [
    {
     "name": "stderr",
     "output_type": "stream",
     "text": [
      "/Users/victoriasuarez/miniconda3/lib/python3.7/site-packages/IPython/core/display.py:689: UserWarning:\n",
      "\n",
      "Consider using IPython.display.IFrame instead\n",
      "\n"
     ]
    },
    {
     "data": {
      "text/html": [
       "<iframe id=\"igraph\" scrolling=\"no\" style=\"border:none;\" seamless=\"seamless\" src=\"https://plot.ly/~vasuarez/54.embed\" height=\"525px\" width=\"100%\"></iframe>"
      ],
      "text/plain": [
       "<plotly.tools.PlotlyDisplay object>"
      ]
     },
     "execution_count": 7,
     "metadata": {},
     "output_type": "execute_result"
    }
   ],
   "source": [
    "# layout of plot\n",
    "layout = go.Layout(\n",
    "        title = go.layout.Title(\n",
    "            text = 'Illiteracy Rates Around the World'\n",
    "        ),\n",
    "        showlegend = True,\n",
    "        geo = go.layout.Geo(\n",
    "          resolution = 110,\n",
    "          showcountries = True,\n",
    "          landcolor = \"#e8e8e8\",\n",
    "          showland = True,\n",
    "          coastlinewidth = 1\n",
    "    ))\n",
    "\n",
    "# objects to be ploted\n",
    "countries = list()\n",
    "for c, row in literacy_rate_by_country.iterrows():\n",
    "    lat, lon = get_lat_lon(c[0])\n",
    "    if lat is None:\n",
    "        continue\n",
    "    val = (100 - row['Value'])\n",
    "    if val < 5:  # too samll, make a little bigger\n",
    "        val = 5\n",
    "    elif val > 30:  # too large, make a little smaller\n",
    "        val = 40\n",
    "    country = go.Scattergeo(\n",
    "               lat = [lat],\n",
    "               lon = [lon],\n",
    "               text = 100 - row['Value'],\n",
    "               mode = 'markers',\n",
    "               marker = go.scattergeo.Marker(\n",
    "                        size = val,\n",
    "                       opacity = 0.65,\n",
    "                        color = color[c[2]],\n",
    "               sizemode = 'area'),\n",
    "               name = c[0])\n",
    "    \n",
    "    countries.append(country)\n",
    "\n",
    "# plot\n",
    "fig = go.Figure(data=countries, layout=layout)\n",
    "py.iplot(fig, filename='BubbleMap')"
   ]
  },
  {
   "cell_type": "code",
   "execution_count": null,
   "metadata": {},
   "outputs": [],
   "source": []
  }
 ],
 "metadata": {
  "kernelspec": {
   "display_name": "Python 3",
   "language": "python",
   "name": "python3"
  },
  "language_info": {
   "codemirror_mode": {
    "name": "ipython",
    "version": 3
   },
   "file_extension": ".py",
   "mimetype": "text/x-python",
   "name": "python",
   "nbconvert_exporter": "python",
   "pygments_lexer": "ipython3",
   "version": "3.7.1"
  }
 },
 "nbformat": 4,
 "nbformat_minor": 2
}
