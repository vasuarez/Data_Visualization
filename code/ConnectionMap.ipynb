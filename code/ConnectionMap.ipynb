{
 "cells": [
  {
   "attachments": {},
   "cell_type": "markdown",
   "metadata": {},
   "source": [
    "# Connection Map\n",
    "She’s the First, STF, is a national non-profit that sponsors girls’ education in developing countries. They are based in New York City and have 250+ scholars across 7 counties shown below."
   ]
  },
  {
   "cell_type": "markdown",
   "metadata": {},
   "source": [
    "### SetUp"
   ]
  },
  {
   "cell_type": "code",
   "execution_count": 1,
   "metadata": {},
   "outputs": [],
   "source": [
    "import pandas as pd\n",
    "import plotly.plotly as py\n",
    "import plotly.graph_objs as go\n",
    "import plotly\n",
    "import geopy.geocoders as geocoders"
   ]
  },
  {
   "cell_type": "code",
   "execution_count": 2,
   "metadata": {},
   "outputs": [],
   "source": [
    "geolocator = geocoders.Nominatim(user_agent=\"my_app\")"
   ]
  },
  {
   "cell_type": "markdown",
   "metadata": {},
   "source": [
    "### Calculations"
   ]
  },
  {
   "cell_type": "code",
   "execution_count": 3,
   "metadata": {},
   "outputs": [],
   "source": [
    "# countries with STF scholars \n",
    "countries = [\"Ethiopia\", \"India\", \"Nepal\", \"Peru\", \"Tanzania\", \"The Gambia\", \"Uganda\"]\n",
    "\n",
    "scholars = dict()\n",
    "for c in countries:\n",
    "    location = geolocator.geocode(c)\n",
    "    scholars[c] = [location.latitude, location.longitude]\n",
    "    \n",
    "headquarters = {\"New York\": [40.7127, -74.0059]}"
   ]
  },
  {
   "cell_type": "markdown",
   "metadata": {},
   "source": [
    "### Plot"
   ]
  },
  {
   "cell_type": "code",
   "execution_count": 4,
   "metadata": {},
   "outputs": [
    {
     "name": "stderr",
     "output_type": "stream",
     "text": [
      "/Users/victoriasuarez/miniconda3/lib/python3.7/site-packages/IPython/core/display.py:689: UserWarning:\n",
      "\n",
      "Consider using IPython.display.IFrame instead\n",
      "\n"
     ]
    },
    {
     "data": {
      "text/html": [
       "<iframe id=\"igraph\" scrolling=\"no\" style=\"border:none;\" seamless=\"seamless\" src=\"https://plot.ly/~vasuarez/52.embed\" height=\"525px\" width=\"100%\"></iframe>"
      ],
      "text/plain": [
       "<plotly.tools.PlotlyDisplay object>"
      ]
     },
     "execution_count": 4,
     "metadata": {},
     "output_type": "execute_result"
    }
   ],
   "source": [
    "# layout of plot\n",
    "layout = go.Layout(\n",
    "    title = go.layout.Title(text = \"She's the First Scholars Across the World\"),\n",
    "    showlegend = False,\n",
    "    geo = go.layout.Geo(\n",
    "          resolution = 110,\n",
    "          showcountries = True,\n",
    "          landcolor = \"#e8e8e8\",\n",
    "          showland = True,\n",
    "          coastlinewidth = 1,\n",
    "        # plot default view\n",
    "            lataxis = go.layout.geo.Lataxis(\n",
    "            range = [-15, 75]),\n",
    "            lonaxis = go.layout.geo.Lonaxis(\n",
    "            range = [-100, 90])))\n",
    "\n",
    "# objects to be ploted\n",
    "countries = list()\n",
    "connections = list()\n",
    "for scholar, location in scholars.items():\n",
    "    lat, lon = location\n",
    "    connect = [go.Scattergeo(\n",
    "               lat = [40.7127, lat],\n",
    "               lon = [-74.0059, lon],\n",
    "               mode = 'lines',\n",
    "               line = go.scattergeo.Line(\n",
    "                      width = 3,\n",
    "                      color = '#a6cee3'))]    \n",
    "    country = [go.Scattergeo(\n",
    "               lat = [lat],\n",
    "               lon = [lon],\n",
    "               # marker\n",
    "               mode = 'markers+text',\n",
    "               marker = go.scattergeo.Marker(\n",
    "                        size = 6,\n",
    "                        color = '#1f78b4'),\n",
    "               # annotation\n",
    "               text = scholar,\n",
    "               textposition='bottom center',\n",
    "               textfont = dict(size=15, color = 'black'))]\n",
    "            \n",
    "    connections += connect\n",
    "    countries += country\n",
    "\n",
    "nyc = [go.Scattergeo(\n",
    "           lat = [40.7127],\n",
    "           lon = [-74.0059],\n",
    "           # marker\n",
    "           mode = 'markers+text',\n",
    "           marker = go.scattergeo.Marker(\n",
    "                    size = 6,\n",
    "                    color = '#ffd92f'),\n",
    "           # annotation\n",
    "           text = \"STF<br>Headquarter\",\n",
    "           textposition='top center',\n",
    "           textfont = dict(size=15, color = 'black'))]\n",
    "\n",
    "# plot\n",
    "fig = go.Figure(data = connections + countries + nyc, layout = layout)\n",
    "py.iplot(fig, filename = 'ConnectionMap')"
   ]
  },
  {
   "cell_type": "code",
   "execution_count": null,
   "metadata": {},
   "outputs": [],
   "source": []
  }
 ],
 "metadata": {
  "kernelspec": {
   "display_name": "Python 3",
   "language": "python",
   "name": "python3"
  },
  "language_info": {
   "codemirror_mode": {
    "name": "ipython",
    "version": 3
   },
   "file_extension": ".py",
   "mimetype": "text/x-python",
   "name": "python",
   "nbconvert_exporter": "python",
   "pygments_lexer": "ipython3",
   "version": "3.7.1"
  }
 },
 "nbformat": 4,
 "nbformat_minor": 2
}
