{
 "cells": [
  {
   "attachments": {},
   "cell_type": "markdown",
   "metadata": {},
   "source": [
    "# Heat Map\n",
    "This heat map shows the difference between the percentage of boys vs the percentage of girls entering primary school over time by continent. The difference is calculated by the % of boys – the % of girls. Ideally, we would like for this difference to be approximately 0% – meaning just as many girls are entering primary school. The lighter the box, the larger the gap is between the number of boys vs the number of girls entering primary school. Luckily, most squares are darker shades of blue and most countries become darker shades of blue over time – meaning the trend shows us that inequality in the number of boys vs girls entering into primary school is decreasing."
   ]
  },
  {
   "cell_type": "markdown",
   "metadata": {},
   "source": [
    "### SetUp"
   ]
  },
  {
   "cell_type": "code",
   "execution_count": 1,
   "metadata": {},
   "outputs": [],
   "source": [
    "import pandas as pd\n",
    "import seaborn as sns\n",
    "import matplotlib.pyplot as plt"
   ]
  },
  {
   "cell_type": "code",
   "execution_count": 2,
   "metadata": {},
   "outputs": [],
   "source": [
    "# helper function\n",
    "def assign_continent(country_code):\n",
    "    \"\"\"given a 3 letter country code,\n",
    "    return the continent the country belongs to\"\"\"\n",
    "    try:\n",
    "        row = country_to_continent[country_to_continent.Three_Letter_Country_Code == country_code]\n",
    "        continent = row.Continent_Name.values[0]\n",
    "        return continent\n",
    "    except:\n",
    "        return None"
   ]
  },
  {
   "cell_type": "markdown",
   "metadata": {},
   "source": [
    "### Pre-Processing\n",
    "1. Filter Columns\n",
    "2. Rename Columns\n",
    "3. Assign each continennt to each country\n",
    "4. Filter out the non-country level rows\n",
    "5. Pivot"
   ]
  },
  {
   "cell_type": "code",
   "execution_count": 3,
   "metadata": {},
   "outputs": [],
   "source": [
    "# read in data\n",
    "entry = pd.read_csv('../data/entry_to_primary_edu.csv')\n",
    "country_to_continent = pd.read_csv('../data/country_continent.csv')\n",
    "\n",
    "# 1. filter\n",
    "country_to_continent = country_to_continent[['Three_Letter_Country_Code', 'Continent_Name', 'Country_Name']]\n",
    "entry = entry[['Indicator', 'LOCATION', 'Country', 'Time', 'Value']]\n",
    "entry = entry[entry.Time != 2018]  # 2018 missing data\n",
    "\n",
    "# 2. rename column\n",
    "entry = entry.replace('New entrants to Grade 1 of primary education, female (number)', 'Girls')\n",
    "entry = entry.replace('New entrants to Grade 1 of primary education, male (number)', 'Boys')\n",
    "\n",
    "# 3. Assign each country their continent\n",
    "entry['Continent'] = entry.LOCATION.apply(lambda x: assign_continent(x))\n",
    "\n",
    "# 4. keep only country level rows\n",
    "countries = country_to_continent.Three_Letter_Country_Code.unique()\n",
    "entry_by_country = entry[entry.LOCATION.isin(countries)]\n",
    "\n",
    "# 5. pivot\n",
    "entry_pivot = pd.pivot_table(entry_by_country, values='Value', \n",
    "                             index=['Continent', 'LOCATION', 'Country', 'Time'], \n",
    "                             columns='Indicator')"
   ]
  },
  {
   "cell_type": "markdown",
   "metadata": {},
   "source": [
    "### Calculations"
   ]
  },
  {
   "cell_type": "code",
   "execution_count": 4,
   "metadata": {},
   "outputs": [
    {
     "data": {
      "text/html": [
       "<div>\n",
       "<style scoped>\n",
       "    .dataframe tbody tr th:only-of-type {\n",
       "        vertical-align: middle;\n",
       "    }\n",
       "\n",
       "    .dataframe tbody tr th {\n",
       "        vertical-align: top;\n",
       "    }\n",
       "\n",
       "    .dataframe thead th {\n",
       "        text-align: right;\n",
       "    }\n",
       "</style>\n",
       "<table border=\"1\" class=\"dataframe\">\n",
       "  <thead>\n",
       "    <tr style=\"text-align: right;\">\n",
       "      <th></th>\n",
       "      <th>Indicator</th>\n",
       "      <th>Boys</th>\n",
       "      <th>Girls</th>\n",
       "      <th>Dif%</th>\n",
       "    </tr>\n",
       "    <tr>\n",
       "      <th>Continent</th>\n",
       "      <th>Time</th>\n",
       "      <th></th>\n",
       "      <th></th>\n",
       "      <th></th>\n",
       "    </tr>\n",
       "  </thead>\n",
       "  <tbody>\n",
       "    <tr>\n",
       "      <th rowspan=\"4\" valign=\"top\">Africa</th>\n",
       "      <th>2014</th>\n",
       "      <td>14242943.00</td>\n",
       "      <td>13325643.00</td>\n",
       "      <td>3.327338</td>\n",
       "    </tr>\n",
       "    <tr>\n",
       "      <th>2015</th>\n",
       "      <td>13078330.00</td>\n",
       "      <td>11588142.00</td>\n",
       "      <td>6.041350</td>\n",
       "    </tr>\n",
       "    <tr>\n",
       "      <th>2016</th>\n",
       "      <td>11213580.04</td>\n",
       "      <td>10211340.81</td>\n",
       "      <td>4.677913</td>\n",
       "    </tr>\n",
       "    <tr>\n",
       "      <th>2017</th>\n",
       "      <td>9219238.00</td>\n",
       "      <td>8763717.00</td>\n",
       "      <td>2.533071</td>\n",
       "    </tr>\n",
       "    <tr>\n",
       "      <th>Asia</th>\n",
       "      <th>2014</th>\n",
       "      <td>34920277.00</td>\n",
       "      <td>31515025.00</td>\n",
       "      <td>5.125666</td>\n",
       "    </tr>\n",
       "  </tbody>\n",
       "</table>\n",
       "</div>"
      ],
      "text/plain": [
       "Indicator              Boys        Girls      Dif%\n",
       "Continent Time                                    \n",
       "Africa    2014  14242943.00  13325643.00  3.327338\n",
       "          2015  13078330.00  11588142.00  6.041350\n",
       "          2016  11213580.04  10211340.81  4.677913\n",
       "          2017   9219238.00   8763717.00  2.533071\n",
       "Asia      2014  34920277.00  31515025.00  5.125666"
      ]
     },
     "execution_count": 4,
     "metadata": {},
     "output_type": "execute_result"
    }
   ],
   "source": [
    "# total enrollment by continent\n",
    "entry_by_continent = entry_pivot.groupby(['Continent', 'Time']).sum()\n",
    "\n",
    "# % of difference in enrollment rate boy vs girls\n",
    "entry_by_continent['Dif%'] = entry_by_continent.apply(lambda x: ((x[0]/(x[0] + x[1])) - (x[1]/(x[0] + x[1])))*100, \n",
    "                                                      axis=1)\n",
    "\n",
    "entry_by_continent.head()"
   ]
  },
  {
   "cell_type": "markdown",
   "metadata": {},
   "source": [
    "### Plot"
   ]
  },
  {
   "cell_type": "code",
   "execution_count": 5,
   "metadata": {},
   "outputs": [
    {
     "data": {
      "image/png": "[encoded data removed]",
      "text/plain": [
       "<Figure size 1080x720 with 2 Axes>"
      ]
     },
     "metadata": {
      "needs_background": "light"
     },
     "output_type": "display_data"
    }
   ],
   "source": [
    "# data to plot\n",
    "matrix = entry_by_continent.reset_index().pivot(index='Continent', columns= 'Time', values='Dif%')\n",
    "\n",
    "# plot size\n",
    "plt.figure(figsize=(15,10))\n",
    "\n",
    "# title\n",
    "plt.title('% Difference in Boys vs Girls Primary Schools Enrollment',\n",
    "         fontsize=20)\n",
    "\n",
    "# data\n",
    "sns.heatmap(matrix, cmap=sns.color_palette(\"Blues_r\"),\n",
    "           cbar_kws=dict(use_gridspec=False,location=\"right\", label='% difference in boys vs. girls'))\n",
    "\n",
    "# color bar\n",
    "cax = plt.gcf().axes[-1]\n",
    "cax.tick_params(labelsize=14)\n",
    "cax.yaxis.label.set_size(18)\n",
    "\n",
    "# axis\n",
    "plt.xlabel('Year', fontsize=18)\n",
    "plt.ylabel('Continent', fontsize=18)\n",
    "plt.tick_params(axis='y', labelrotation=45)\n",
    "plt.tick_params(labelsize=14)\n",
    "\n",
    "# plt.show()\n",
    "plt.savefig('HeatMap')"
   ]
  },
  {
   "cell_type": "code",
   "execution_count": null,
   "metadata": {},
   "outputs": [],
   "source": []
  }
 ],
 "metadata": {
  "kernelspec": {
   "display_name": "Python 3",
   "language": "python",
   "name": "python3"
  },
  "language_info": {
   "codemirror_mode": {
    "name": "ipython",
    "version": 3
   },
   "file_extension": ".py",
   "mimetype": "text/x-python",
   "name": "python",
   "nbconvert_exporter": "python",
   "pygments_lexer": "ipython3",
   "version": "3.7.1"
  }
 },
 "nbformat": 4,
 "nbformat_minor": 2
}
