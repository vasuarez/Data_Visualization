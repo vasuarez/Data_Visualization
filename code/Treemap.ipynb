{
 "cells": [
  {
   "attachments": {},
   "cell_type": "markdown",
   "metadata": {},
   "source": [
    "# Treemap\n",
    "This tree map gives us a comparable and scaled-view of the average graduation rate for each continent. Europe has the largest graduation ratio and Africa has the smallest graduation ratio."
   ]
  },
  {
   "cell_type": "markdown",
   "metadata": {},
   "source": [
    "### SetUp"
   ]
  },
  {
   "cell_type": "code",
   "execution_count": 1,
   "metadata": {},
   "outputs": [],
   "source": [
    "import pandas as pd\n",
    "import seaborn as sns\n",
    "import matplotlib.pyplot as plt\n",
    "import squarify"
   ]
  },
  {
   "cell_type": "code",
   "execution_count": 2,
   "metadata": {},
   "outputs": [],
   "source": [
    "# helper function\n",
    "def assign_continent(country_code):\n",
    "    \"\"\"given a 3 letter country code,\n",
    "    return the continent the country belongs to\"\"\"\n",
    "    try:\n",
    "        row = country_to_continent[country_to_continent.Three_Letter_Country_Code == country_code]\n",
    "        continent = row.Continent_Name.values[0]\n",
    "        return continent\n",
    "    except:\n",
    "        return None"
   ]
  },
  {
   "cell_type": "markdown",
   "metadata": {},
   "source": [
    "### Pre-Processing\n",
    "1. Filter Columns\n",
    "2. Rename Columns\n",
    "3. Assign each continennt to each country\n",
    "4. Filter out the non-country level rows"
   ]
  },
  {
   "cell_type": "code",
   "execution_count": 3,
   "metadata": {},
   "outputs": [],
   "source": [
    "# read in data\n",
    "grad = pd.read_csv('../data/graduation_ratio_under_secondary_edu.csv')\n",
    "country_to_continent = pd.read_csv('../data/country_continent.csv')\n",
    "\n",
    "# 1. filter columns\n",
    "country_to_continent = country_to_continent[['Three_Letter_Country_Code', 'Continent_Name', 'Country_Name']]\n",
    "grad = grad[['Indicator', 'LOCATION', 'Country', 'Time', 'Value']]\n",
    "grad = grad[grad.Time != 2018]\n",
    "\n",
    "# 2. rename column\n",
    "grad = grad.replace('Gross graduation ratio from lower secondary education, female (%)', \n",
    "                           'Girls')\n",
    "grad = grad.replace('Gross graduation ratio from lower secondary education, male (%)', \n",
    "                           'Boys')\n",
    "\n",
    "# 3. Assign each country their continent\n",
    "grad['Continent'] = grad.LOCATION.apply(lambda x: assign_continent(x))\n",
    "\n",
    "# 4. keep only country level rows\n",
    "countries = country_to_continent.Three_Letter_Country_Code.unique()\n",
    "grad_by_country = grad[grad.LOCATION.isin(countries)]\n",
    "\n",
    "# grad_by_country.head()"
   ]
  },
  {
   "cell_type": "markdown",
   "metadata": {},
   "source": [
    "### Calculations"
   ]
  },
  {
   "cell_type": "code",
   "execution_count": 4,
   "metadata": {},
   "outputs": [
    {
     "data": {
      "text/html": [
       "<div>\n",
       "<style scoped>\n",
       "    .dataframe tbody tr th:only-of-type {\n",
       "        vertical-align: middle;\n",
       "    }\n",
       "\n",
       "    .dataframe tbody tr th {\n",
       "        vertical-align: top;\n",
       "    }\n",
       "\n",
       "    .dataframe thead th {\n",
       "        text-align: right;\n",
       "    }\n",
       "</style>\n",
       "<table border=\"1\" class=\"dataframe\">\n",
       "  <thead>\n",
       "    <tr style=\"text-align: right;\">\n",
       "      <th></th>\n",
       "      <th>Continent</th>\n",
       "      <th>Value</th>\n",
       "    </tr>\n",
       "  </thead>\n",
       "  <tbody>\n",
       "    <tr>\n",
       "      <th>0</th>\n",
       "      <td>Africa</td>\n",
       "      <td>45.548283</td>\n",
       "    </tr>\n",
       "    <tr>\n",
       "      <th>1</th>\n",
       "      <td>Asia</td>\n",
       "      <td>80.980666</td>\n",
       "    </tr>\n",
       "    <tr>\n",
       "      <th>2</th>\n",
       "      <td>Europe</td>\n",
       "      <td>100.105891</td>\n",
       "    </tr>\n",
       "    <tr>\n",
       "      <th>3</th>\n",
       "      <td>North America</td>\n",
       "      <td>77.832374</td>\n",
       "    </tr>\n",
       "    <tr>\n",
       "      <th>4</th>\n",
       "      <td>Oceania</td>\n",
       "      <td>82.917498</td>\n",
       "    </tr>\n",
       "    <tr>\n",
       "      <th>5</th>\n",
       "      <td>South America</td>\n",
       "      <td>80.240870</td>\n",
       "    </tr>\n",
       "  </tbody>\n",
       "</table>\n",
       "</div>"
      ],
      "text/plain": [
       "       Continent       Value\n",
       "0         Africa   45.548283\n",
       "1           Asia   80.980666\n",
       "2         Europe  100.105891\n",
       "3  North America   77.832374\n",
       "4        Oceania   82.917498\n",
       "5  South America   80.240870"
      ]
     },
     "execution_count": 4,
     "metadata": {},
     "output_type": "execute_result"
    }
   ],
   "source": [
    "# average graduation ratio by continent\n",
    "grad_ratio_by_country = grad_by_country[['Continent', 'Value']].groupby('Continent').mean().reset_index()\n",
    "\n",
    "grad_ratio_by_country"
   ]
  },
  {
   "cell_type": "markdown",
   "metadata": {},
   "source": [
    "### Plot"
   ]
  },
  {
   "cell_type": "code",
   "execution_count": 5,
   "metadata": {},
   "outputs": [
    {
     "data": {
      "image/png": "[encoded data removed]",
      "text/plain": [
       "<Figure size 842.4x595.44 with 1 Axes>"
      ]
     },
     "metadata": {
      "needs_background": "light"
     },
     "output_type": "display_data"
    }
   ],
   "source": [
    "squarify.plot(sizes=grad_ratio_by_country.Value.values, \n",
    "              label=grad_ratio_by_country.Continent.values, \n",
    "              color=[\"red\",\"green\",\"blue\", \"grey\", \"orange\", \"purple\"], alpha=.4 )\n",
    "\n",
    "# size \n",
    "plt.gcf().set_size_inches(11.7, 8.27)\n",
    "\n",
    "# title\n",
    "plt.title(f'Graduation Rates By Continent',fontsize=20)\n",
    "\n",
    "#axis\n",
    "plt.axis('off')\n",
    "\n",
    "# plt.show()\n",
    "plt.savefig('Treemap')"
   ]
  },
  {
   "cell_type": "code",
   "execution_count": null,
   "metadata": {},
   "outputs": [],
   "source": []
  }
 ],
 "metadata": {
  "kernelspec": {
   "display_name": "Python 3",
   "language": "python",
   "name": "python3"
  },
  "language_info": {
   "codemirror_mode": {
    "name": "ipython",
    "version": 3
   },
   "file_extension": ".py",
   "mimetype": "text/x-python",
   "name": "python",
   "nbconvert_exporter": "python",
   "pygments_lexer": "ipython3",
   "version": "3.7.1"
  }
 },
 "nbformat": 4,
 "nbformat_minor": 2
}
