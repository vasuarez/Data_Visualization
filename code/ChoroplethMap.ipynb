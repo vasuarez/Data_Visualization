{
 "cells": [
  {
   "attachments": {},
   "cell_type": "markdown",
   "metadata": {},
   "source": [
    "# Choropleth Map\n",
    "This map shows the difference between the percentage of boys vs the percentage of girls entering into primary school by country. The difference is calculated by % of boys – % of girls. The color bar represents how large the gap is."
   ]
  },
  {
   "cell_type": "markdown",
   "metadata": {},
   "source": [
    "### SetUp"
   ]
  },
  {
   "cell_type": "code",
   "execution_count": 1,
   "metadata": {},
   "outputs": [],
   "source": [
    "import pandas as pd\n",
    "import seaborn as sns\n",
    "import matplotlib.pyplot as plt\n",
    "\n",
    "import plotly.plotly as py\n",
    "import plotly.graph_objs as go\n",
    "import plotly"
   ]
  },
  {
   "cell_type": "code",
   "execution_count": 2,
   "metadata": {},
   "outputs": [],
   "source": [
    "# helper function\n",
    "def assign_continent(country_code):\n",
    "    \"\"\"given a 3 letter country code,\n",
    "    return the continent the country belongs to\"\"\"\n",
    "    try:\n",
    "        row = country_to_continent[country_to_continent.Three_Letter_Country_Code == country_code]\n",
    "        continent = row.Continent_Name.values[0]\n",
    "        return continent\n",
    "    except:\n",
    "        return None"
   ]
  },
  {
   "cell_type": "markdown",
   "metadata": {},
   "source": [
    "### Pre-Processing\n",
    "1. Filter Columns\n",
    "2. Rename Columns\n",
    "3. Assign each continennt to each country\n",
    "4. Filter out the non-country level rows\n",
    "5. Pivot"
   ]
  },
  {
   "cell_type": "code",
   "execution_count": 3,
   "metadata": {},
   "outputs": [],
   "source": [
    "# read in data\n",
    "entry = pd.read_csv('../data/entry_to_primary_edu.csv')\n",
    "country_to_continent = pd.read_csv('../data/country_continent.csv')\n",
    "\n",
    "# 1. filter\n",
    "country_to_continent = country_to_continent[['Three_Letter_Country_Code', 'Continent_Name', 'Country_Name']]\n",
    "entry = entry[['Indicator', 'LOCATION', 'Country', 'Time', 'Value']]\n",
    "entry = entry[entry.Time != 2018]  # 2018 missing data\n",
    "\n",
    "# 2. rename column\n",
    "entry = entry.replace('New entrants to Grade 1 of primary education, female (number)', 'Girls')\n",
    "entry = entry.replace('New entrants to Grade 1 of primary education, male (number)', 'Boys')\n",
    "\n",
    "# 3. Assign each country their continent\n",
    "entry['Continent'] = entry.LOCATION.apply(lambda x: assign_continent(x))\n",
    "\n",
    "# 4. keep only country level rows\n",
    "countries = country_to_continent.Three_Letter_Country_Code.unique()\n",
    "entry_by_country = entry[entry.LOCATION.isin(countries)]\n",
    "\n",
    "# 5. pivot\n",
    "entry_pivot = pd.pivot_table(entry_by_country, values='Value', \n",
    "                             index=['Continent', 'LOCATION', 'Country', 'Time'], \n",
    "                             columns='Indicator')"
   ]
  },
  {
   "cell_type": "markdown",
   "metadata": {},
   "source": [
    "### Calculations"
   ]
  },
  {
   "cell_type": "code",
   "execution_count": 4,
   "metadata": {},
   "outputs": [
    {
     "data": {
      "text/html": [
       "<div>\n",
       "<style scoped>\n",
       "    .dataframe tbody tr th:only-of-type {\n",
       "        vertical-align: middle;\n",
       "    }\n",
       "\n",
       "    .dataframe tbody tr th {\n",
       "        vertical-align: top;\n",
       "    }\n",
       "\n",
       "    .dataframe thead th {\n",
       "        text-align: right;\n",
       "    }\n",
       "</style>\n",
       "<table border=\"1\" class=\"dataframe\">\n",
       "  <thead>\n",
       "    <tr style=\"text-align: right;\">\n",
       "      <th>Indicator</th>\n",
       "      <th>Country</th>\n",
       "      <th>LOCATION</th>\n",
       "      <th>Dif%</th>\n",
       "    </tr>\n",
       "  </thead>\n",
       "  <tbody>\n",
       "    <tr>\n",
       "      <th>0</th>\n",
       "      <td>Burundi</td>\n",
       "      <td>BDI</td>\n",
       "      <td>1.218825</td>\n",
       "    </tr>\n",
       "    <tr>\n",
       "      <th>1</th>\n",
       "      <td>Benin</td>\n",
       "      <td>BEN</td>\n",
       "      <td>3.897341</td>\n",
       "    </tr>\n",
       "    <tr>\n",
       "      <th>2</th>\n",
       "      <td>Burkina Faso</td>\n",
       "      <td>BFA</td>\n",
       "      <td>4.722228</td>\n",
       "    </tr>\n",
       "    <tr>\n",
       "      <th>3</th>\n",
       "      <td>Botswana</td>\n",
       "      <td>BWA</td>\n",
       "      <td>4.866140</td>\n",
       "    </tr>\n",
       "    <tr>\n",
       "      <th>4</th>\n",
       "      <td>Central African Republic</td>\n",
       "      <td>CAF</td>\n",
       "      <td>10.225004</td>\n",
       "    </tr>\n",
       "  </tbody>\n",
       "</table>\n",
       "</div>"
      ],
      "text/plain": [
       "Indicator                   Country LOCATION       Dif%\n",
       "0                           Burundi      BDI   1.218825\n",
       "1                             Benin      BEN   3.897341\n",
       "2                      Burkina Faso      BFA   4.722228\n",
       "3                          Botswana      BWA   4.866140\n",
       "4          Central African Republic      CAF  10.225004"
      ]
     },
     "execution_count": 4,
     "metadata": {},
     "output_type": "execute_result"
    }
   ],
   "source": [
    "# mean enrollment for country\n",
    "entry_by_contry = entry_pivot.groupby(['Country', 'LOCATION']).mean()\n",
    "\n",
    "# difference in % of boys vs girls in school\n",
    "entry_by_contry['Dif%'] = entry_by_contry.apply(lambda x: (x[0]/(x[0] + x[1]) - x[1]/(x[0] + x[1]))*100, axis=1)\n",
    "\n",
    "# filter wanted columns\n",
    "entry_by_contry = entry_by_contry.reset_index()[['Country', 'LOCATION', 'Dif%']]\n",
    "\n",
    "entry_by_contry.head()"
   ]
  },
  {
   "cell_type": "markdown",
   "metadata": {},
   "source": [
    "### Plot"
   ]
  },
  {
   "cell_type": "code",
   "execution_count": 5,
   "metadata": {},
   "outputs": [
    {
     "name": "stderr",
     "output_type": "stream",
     "text": [
      "/Users/victoriasuarez/miniconda3/lib/python3.7/site-packages/IPython/core/display.py:689: UserWarning:\n",
      "\n",
      "Consider using IPython.display.IFrame instead\n",
      "\n"
     ]
    },
    {
     "data": {
      "text/html": [
       "<iframe id=\"igraph\" scrolling=\"no\" style=\"border:none;\" seamless=\"seamless\" src=\"https://plot.ly/~vasuarez/56.embed\" height=\"525px\" width=\"100%\"></iframe>"
      ],
      "text/plain": [
       "<plotly.tools.PlotlyDisplay object>"
      ]
     },
     "execution_count": 5,
     "metadata": {},
     "output_type": "execute_result"
    }
   ],
   "source": [
    "data = [go.Choropleth(\n",
    "    locations = entry_by_contry['LOCATION'],\n",
    "    z = entry_by_contry['Dif%'],\n",
    "    text = entry_by_contry['Country'],\n",
    "    autocolorscale = True,\n",
    "    reversescale = True,\n",
    "    marker = go.choropleth.Marker(\n",
    "        line = go.choropleth.marker.Line(\n",
    "            color = 'rgb(180,180,180)',\n",
    "            width = 0.5\n",
    "        )),\n",
    "    colorbar = go.choropleth.ColorBar(\n",
    "        tickprefix = '%',\n",
    "        title = '% Difference of Boys vs Girls'),\n",
    ")]\n",
    "\n",
    "layout = go.Layout(\n",
    "    title = go.layout.Title(\n",
    "        text = 'Difference in Primary School Entry for Boys vs. Girls'\n",
    "    ),\n",
    "    geo = go.layout.Geo(\n",
    "        showframe = False,\n",
    "        showcoastlines = True,\n",
    "        projection = go.layout.geo.Projection(\n",
    "            type = 'equirectangular'\n",
    "        )\n",
    "    ),\n",
    ")\n",
    "\n",
    "fig = go.Figure(data = data, layout = layout)\n",
    "py.iplot(fig, filename = 'ChoroplethMap')"
   ]
  },
  {
   "cell_type": "code",
   "execution_count": null,
   "metadata": {},
   "outputs": [],
   "source": []
  }
 ],
 "metadata": {
  "kernelspec": {
   "display_name": "Python 3",
   "language": "python",
   "name": "python3"
  },
  "language_info": {
   "codemirror_mode": {
    "name": "ipython",
    "version": 3
   },
   "file_extension": ".py",
   "mimetype": "text/x-python",
   "name": "python",
   "nbconvert_exporter": "python",
   "pygments_lexer": "ipython3",
   "version": "3.7.1"
  }
 },
 "nbformat": 4,
 "nbformat_minor": 2
}
